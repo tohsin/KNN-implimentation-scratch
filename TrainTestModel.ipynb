{
 "cells": [
  {
   "cell_type": "markdown",
   "metadata": {},
   "source": [
    "<h3>Here We import The nesseary, libaries<h3>\n"
   ]
  },
  {
   "cell_type": "code",
   "execution_count": 3,
   "metadata": {},
   "outputs": [],
   "source": [
    "import pandas as pd\n",
    "import matplotlib.pyplot as plt\n",
    "import seaborn as sns\n",
    "import numpy as np\n",
    "from src.KNNClassifier  import KNNClassfier\n",
    "from src.utilities import trainTestSplit\n",
    "from sklearn.preprocessing import MinMaxScaler\n",
    "from sklearn.preprocessing import StandardScaler\n",
    "from sklearn.metrics import confusion_matrix, classification_report"
   ]
  },
  {
   "cell_type": "markdown",
   "metadata": {},
   "source": [
    "<h3>Add and load datasets saved to dataframe<h3>\n"
   ]
  },
  {
   "cell_type": "code",
   "execution_count": 4,
   "metadata": {},
   "outputs": [],
   "source": [
    "#here we load the data\n",
    "x_dataframe = pd.read_csv('~/dev/KNNIMPLIMENTATION/Dataset/X_train.csv')\n",
    "y_dataframe = pd.read_csv('~/dev/KNNIMPLIMENTATION/Dataset/Y_train.csv')"
   ]
  },
  {
   "cell_type": "markdown",
   "metadata": {},
   "source": [
    "<h3>Drop first columns for index of data frame and converting to numpy array<h3>\n"
   ]
  },
  {
   "cell_type": "code",
   "execution_count": 5,
   "metadata": {},
   "outputs": [],
   "source": [
    "x_dataframe.drop(x_dataframe.columns[[0]], axis = 1, inplace = True)\n",
    "y_dataframe.drop(y_dataframe.columns[[0]], axis = 1, inplace = True)\n"
   ]
  },
  {
   "cell_type": "markdown",
   "metadata": {},
   "source": [
    "<h3>Convert to numpy array<h3>\n"
   ]
  },
  {
   "cell_type": "code",
   "execution_count": 6,
   "metadata": {},
   "outputs": [],
   "source": [
    "\n",
    "y_dataSet=y_dataframe.to_numpy( dtype=None, copy=False)\n",
    "x_dataSet=x_dataframe.to_numpy( dtype=None, copy=False)"
   ]
  },
  {
   "cell_type": "markdown",
   "metadata": {},
   "source": [
    "<h3>Perform train test split using our module<h3>\n"
   ]
  },
  {
   "cell_type": "code",
   "execution_count": 7,
   "metadata": {},
   "outputs": [
    {
     "name": "stdout",
     "output_type": "stream",
     "text": [
      "80.0 percentage split with 768 samples and 614 training data         and 154 number of test\n"
     ]
    }
   ],
   "source": [
    "x_train,label_train,x_test,label_test=trainTestSplit(x_dataSet,y_dataSet,0.8)"
   ]
  },
  {
   "cell_type": "markdown",
   "metadata": {},
   "source": [
    "<h3>We build the model using the KNN Classifier class<h3>\n",
    "<P>We then cache in the data using the fit method<p>"
   ]
  },
  {
   "cell_type": "code",
   "execution_count": 8,
   "metadata": {},
   "outputs": [],
   "source": [
    "model=KNNClassfier()\n",
    "model.fit(x_train, label_train,metrics=\"euclidian_distance\")"
   ]
  },
  {
   "cell_type": "markdown",
   "metadata": {},
   "source": [
    "<h3>Now we try out diffrent K values to get the one iwith bes result and we also try multiple data preprocessing<h3>"
   ]
  },
  {
   "cell_type": "markdown",
   "metadata": {},
   "source": [
    "<p> First without scaling the data<p>"
   ]
  },
  {
   "cell_type": "code",
   "execution_count": 9,
   "metadata": {},
   "outputs": [
    {
     "name": "stdout",
     "output_type": "stream",
     "text": [
      "Accuracy = 74.67532467532467 %\n",
      "K value = 20\n"
     ]
    }
   ],
   "source": [
    "max_acc=-2\n",
    "k_=1\n",
    "for k in range(1,30):\n",
    "    predictions = model.predict(x_test, k)\n",
    "    acc=model.accuracy(predictions, label_test)\n",
    "    if acc>max_acc:\n",
    "        max_acc=acc\n",
    "        k_=k\n",
    "    # max_v=max(model.accuracy(predictions, label_test) ,max_v)\n",
    "\n",
    "\n",
    "print(\"Accuracy =\", (max_acc)*100, \"%\" ) \n",
    "print(\"K value =\", (k_) ) "
   ]
  },
  {
   "cell_type": "markdown",
   "metadata": {},
   "source": [
    "<p>Next with Standard Scalar<p>\n"
   ]
  },
  {
   "cell_type": "code",
   "execution_count": 10,
   "metadata": {},
   "outputs": [],
   "source": [
    "#code adapted from Jason Brownlee, 2022\n",
    "sc_x=StandardScaler()\n",
    "x_train_standard =sc_x.fit_transform(x_train) \n",
    "x_test_standard = sc_x.transform(x_test)\n",
    "#end of adapted code"
   ]
  },
  {
   "cell_type": "code",
   "execution_count": 11,
   "metadata": {},
   "outputs": [
    {
     "name": "stdout",
     "output_type": "stream",
     "text": [
      "Accuracy = 78.57142857142857 %\n",
      "K value = 21\n"
     ]
    }
   ],
   "source": [
    "model=KNNClassfier()\n",
    "model.fit(x_train_standard, label_train)\n",
    "\n",
    "max_acc=-2\n",
    "k_=1\n",
    "for k in range(1,30):\n",
    "    predictions = model.predict(x_test_standard, k)\n",
    "    acc=model.accuracy(predictions, label_test)\n",
    "    if acc>max_acc:\n",
    "        max_acc=acc\n",
    "        k_=k\n",
    "    # max_v=max(model.accuracy(predictions, label_test) ,max_v)\n",
    "\n",
    "\n",
    "print(\"Accuracy =\", (max_acc)*100, \"%\" ) \n",
    "print(\"K value =\", (k_) ) "
   ]
  },
  {
   "cell_type": "markdown",
   "metadata": {},
   "source": [
    "<p>Finally with Min max Scaler<p>"
   ]
  },
  {
   "cell_type": "code",
   "execution_count": 12,
   "metadata": {},
   "outputs": [],
   "source": [
    "sc_x=MinMaxScaler()\n",
    "x_train_minmax =sc_x.fit_transform(x_train) \n",
    "x_test_minmax = sc_x.transform(x_test)\n"
   ]
  },
  {
   "cell_type": "code",
   "execution_count": 13,
   "metadata": {},
   "outputs": [
    {
     "name": "stdout",
     "output_type": "stream",
     "text": [
      "Accuracy = 77.92207792207793 %\n",
      "K value = 15\n"
     ]
    }
   ],
   "source": [
    "model=KNNClassfier()\n",
    "model.fit(x_train_minmax, label_train)\n",
    "\n",
    "max_acc=-2\n",
    "k_=1\n",
    "for k in range(1,30):\n",
    "    predictions = model.predict(x_test_minmax, k)\n",
    "    acc=model.accuracy(predictions, label_test)\n",
    "    if acc>max_acc:\n",
    "        max_acc=acc\n",
    "        k_=k\n",
    "    # max_v=max(model.accuracy(predictions, label_test) ,max_v)\n",
    "\n",
    "\n",
    "print(\"Accuracy =\", (max_acc)*100, \"%\" ) \n",
    "print(\"K value =\", (k_) ) "
   ]
  },
  {
   "cell_type": "code",
   "execution_count": 14,
   "metadata": {},
   "outputs": [],
   "source": [
    "sc_x=StandardScaler()\n",
    "x_train_standard =sc_x.fit_transform(x_train) \n",
    "x_test_standard = sc_x.transform(x_test)\n",
    "\n",
    "\n",
    "model=KNNClassfier()\n",
    "model.fit(x_train_standard, label_train)\n",
    "\n",
    "predictions = model.predict(x_test_standard, k=21)\n",
    "\n"
   ]
  },
  {
   "cell_type": "code",
   "execution_count": 15,
   "metadata": {},
   "outputs": [
    {
     "name": "stdout",
     "output_type": "stream",
     "text": [
      "              precision    recall  f1-score   support\n",
      "\n",
      "           0       0.78      0.93      0.85        99\n",
      "           1       0.81      0.53      0.64        55\n",
      "\n",
      "    accuracy                           0.79       154\n",
      "   macro avg       0.79      0.73      0.74       154\n",
      "weighted avg       0.79      0.79      0.77       154\n",
      "\n"
     ]
    }
   ],
   "source": [
    "\n",
    "cf_matrix=confusion_matrix(label_test, predictions)\n",
    "print(classification_report(label_test, predictions))"
   ]
  },
  {
   "cell_type": "code",
   "execution_count": 20,
   "metadata": {},
   "outputs": [
    {
     "data": {
      "image/png": "[encoded data removed]",
      "text/plain": [
       "<Figure size 432x288 with 2 Axes>"
      ]
     },
     "metadata": {
      "needs_background": "light"
     },
     "output_type": "display_data"
    }
   ],
   "source": [
    "# adapted from Vikram Aruchamy,2021\n",
    "\n",
    "ax = sns.heatmap(cf_matrix, annot=True, cmap='Blues')\n",
    "\n",
    "ax.set_title('Seaborn Confusion Matrix with labels\\n\\n');\n",
    "ax.set_xlabel('\\nPredicted Values')\n",
    "ax.set_ylabel('Actual Values ');\n",
    "\n",
    "## Ticket labels - List must be in alphabetical order\n",
    "ax.xaxis.set_ticklabels(['False','True'])\n",
    "ax.yaxis.set_ticklabels(['False','True'])\n",
    "\n",
    "## Display the visualization of the Confusion Matrix.\n",
    "plt.show()\n",
    "#end of adaptation"
   ]
  },
  {
   "cell_type": "code",
   "execution_count": null,
   "metadata": {},
   "outputs": [],
   "source": []
  }
 ],
 "metadata": {
  "interpreter": {
   "hash": "f564fee91d3192a8d8daaba3602c8d691e248381d1e43ebdce8254407a544e2c"
  },
  "kernelspec": {
   "display_name": "Python 3.8.3 64-bit ('base': conda)",
   "language": "python",
   "name": "python3"
  },
  "language_info": {
   "codemirror_mode": {
    "name": "ipython",
    "version": 3
   },
   "file_extension": ".py",
   "mimetype": "text/x-python",
   "name": "python",
   "nbconvert_exporter": "python",
   "pygments_lexer": "ipython3",
   "version": "3.8.3"
  },
  "orig_nbformat": 4
 },
 "nbformat": 4,
 "nbformat_minor": 2
}
